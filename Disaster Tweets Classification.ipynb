{
 "cells": [
  {
   "cell_type": "markdown",
   "id": "f6fceccd-687d-4212-811e-380d39fa23e0",
   "metadata": {},
   "source": [
    "# Natural Language Processing with Disaster Tweets – Mini-Project  \n",
    "**Author:** Janmejay\n",
    "**Date:** June 20, 2025  \n",
    "\n",
    "Weekly mini-project for the Kaggle competition **“Natural Language Processing with Disaster Tweets.”**\n",
    "\n",
    "It follows the required rubric:\n",
    "\n",
    "1. Problem & data description  \n",
    "2. Exploratory data analysis (EDA)  \n",
    "3. Data cleaning & preprocessing  \n",
    "4. Model architecture (RNN family)  \n",
    "5. Training, tuning & evaluation  \n",
    "6. Submission file creation  \n",
    "7. Discussion / conclusion & references  \n",
    "\n",
    "---\n",
    "\n",
    "> **Quick start:**  \n",
    "> Run this script top-to-bottom. It automatically detects a CUDA-enabled GPU (if available), otherwise it falls back to CPU. The final cell writes `submission.csv` to the working directory, ready for Kaggle upload.\n",
    "\n",
    "---\n",
    "\n",
    "## 1. Problem & Data Description *(5 pts)*\n",
    "\n",
    "The task is **binary text classification**: determine whether a tweet **describes a real disaster (1)** or **not (0)**.  \n",
    "\n",
    "- **Input**: tweet text (string)  \n",
    "- **Output**: `target` label (0 or 1)\n",
    "\n",
    "The supplied files are:\n",
    "\n",
    "- `train.csv` – 7,613 rows with columns: `id`, `keyword`, `location`, `text`, `target`  \n",
    "- `test.csv` – 3,263 rows, same columns as above except no `target`  \n",
    "- `sample_submission.csv` – template for your Kaggle `submission.csv`\n",
    "\n",
    "**Key points:**\n",
    "\n",
    "- Tweets are short (≤ 280 characters) and contain noisy language (URLs, @mentions, emojis, etc.)\n",
    "- Class imbalance is mild (~43% labeled as disaster)\n",
    "- Evaluation metric is **F1 score** (harmonic mean of precision and recall)\n",
    "\n",
    "---\n"
   ]
  },
  {
   "cell_type": "code",
   "execution_count": 1,
   "id": "a9fe7a3b-4595-427e-a43c-bc91b1ec74b1",
   "metadata": {},
   "outputs": [
    {
     "name": "stderr",
     "output_type": "stream",
     "text": [
      "C:\\Users\\Jam\\anaconda3\\Lib\\site-packages\\torchtext\\vocab\\__init__.py:4: UserWarning: \n",
      "/!\\ IMPORTANT WARNING ABOUT TORCHTEXT STATUS /!\\ \n",
      "Torchtext is deprecated and the last released version will be 0.18 (this one). You can silence this warning by calling the following at the beginnign of your scripts: `import torchtext; torchtext.disable_torchtext_deprecation_warning()`\n",
      "  warnings.warn(torchtext._TORCHTEXT_DEPRECATION_MSG)\n",
      "C:\\Users\\Jam\\anaconda3\\Lib\\site-packages\\torchtext\\utils.py:4: UserWarning: \n",
      "/!\\ IMPORTANT WARNING ABOUT TORCHTEXT STATUS /!\\ \n",
      "Torchtext is deprecated and the last released version will be 0.18 (this one). You can silence this warning by calling the following at the beginnign of your scripts: `import torchtext; torchtext.disable_torchtext_deprecation_warning()`\n",
      "  warnings.warn(torchtext._TORCHTEXT_DEPRECATION_MSG)\n"
     ]
    },
    {
     "name": "stdout",
     "output_type": "stream",
     "text": [
      "Device: cuda\n"
     ]
    }
   ],
   "source": [
    "import re, random, string\n",
    "from collections import Counter\n",
    "import pandas as pd\n",
    "import numpy as np\n",
    "import matplotlib.pyplot as plt\n",
    "from sklearn.model_selection import train_test_split\n",
    "from sklearn.metrics import f1_score\n",
    "import torch\n",
    "import torch.nn as nn\n",
    "from torch.utils.data import DataLoader, Dataset\n",
    "from torch.nn.utils.rnn import pad_sequence\n",
    "from tqdm.auto import tqdm\n",
    "from torchtext.vocab import GloVe\n",
    "\n",
    "# Reproducibility & device\n",
    "SEED = 42\n",
    "random.seed(SEED); np.random.seed(SEED); torch.manual_seed(SEED)\n",
    "DEVICE = torch.device('cuda' if torch.cuda.is_available() else 'cpu')\n",
    "print('Device:', DEVICE)"
   ]
  },
  {
   "cell_type": "code",
   "execution_count": 2,
   "id": "fb5ac22d-2b9f-4f92-a2ef-577c9770be53",
   "metadata": {},
   "outputs": [
    {
     "name": "stdout",
     "output_type": "stream",
     "text": [
      "(7613, 5) (3263, 4)\n"
     ]
    },
    {
     "data": {
      "text/html": [
       "<div>\n",
       "<style scoped>\n",
       "    .dataframe tbody tr th:only-of-type {\n",
       "        vertical-align: middle;\n",
       "    }\n",
       "\n",
       "    .dataframe tbody tr th {\n",
       "        vertical-align: top;\n",
       "    }\n",
       "\n",
       "    .dataframe thead th {\n",
       "        text-align: right;\n",
       "    }\n",
       "</style>\n",
       "<table border=\"1\" class=\"dataframe\">\n",
       "  <thead>\n",
       "    <tr style=\"text-align: right;\">\n",
       "      <th></th>\n",
       "      <th>id</th>\n",
       "      <th>keyword</th>\n",
       "      <th>location</th>\n",
       "      <th>text</th>\n",
       "      <th>target</th>\n",
       "    </tr>\n",
       "  </thead>\n",
       "  <tbody>\n",
       "    <tr>\n",
       "      <th>0</th>\n",
       "      <td>1</td>\n",
       "      <td>NaN</td>\n",
       "      <td>NaN</td>\n",
       "      <td>Our Deeds are the Reason of this #earthquake M...</td>\n",
       "      <td>1</td>\n",
       "    </tr>\n",
       "    <tr>\n",
       "      <th>1</th>\n",
       "      <td>4</td>\n",
       "      <td>NaN</td>\n",
       "      <td>NaN</td>\n",
       "      <td>Forest fire near La Ronge Sask. Canada</td>\n",
       "      <td>1</td>\n",
       "    </tr>\n",
       "    <tr>\n",
       "      <th>2</th>\n",
       "      <td>5</td>\n",
       "      <td>NaN</td>\n",
       "      <td>NaN</td>\n",
       "      <td>All residents asked to 'shelter in place' are ...</td>\n",
       "      <td>1</td>\n",
       "    </tr>\n",
       "    <tr>\n",
       "      <th>3</th>\n",
       "      <td>6</td>\n",
       "      <td>NaN</td>\n",
       "      <td>NaN</td>\n",
       "      <td>13,000 people receive #wildfires evacuation or...</td>\n",
       "      <td>1</td>\n",
       "    </tr>\n",
       "    <tr>\n",
       "      <th>4</th>\n",
       "      <td>7</td>\n",
       "      <td>NaN</td>\n",
       "      <td>NaN</td>\n",
       "      <td>Just got sent this photo from Ruby #Alaska as ...</td>\n",
       "      <td>1</td>\n",
       "    </tr>\n",
       "  </tbody>\n",
       "</table>\n",
       "</div>"
      ],
      "text/plain": [
       "   id keyword location                                               text  \\\n",
       "0   1     NaN      NaN  Our Deeds are the Reason of this #earthquake M...   \n",
       "1   4     NaN      NaN             Forest fire near La Ronge Sask. Canada   \n",
       "2   5     NaN      NaN  All residents asked to 'shelter in place' are ...   \n",
       "3   6     NaN      NaN  13,000 people receive #wildfires evacuation or...   \n",
       "4   7     NaN      NaN  Just got sent this photo from Ruby #Alaska as ...   \n",
       "\n",
       "   target  \n",
       "0       1  \n",
       "1       1  \n",
       "2       1  \n",
       "3       1  \n",
       "4       1  "
      ]
     },
     "execution_count": 2,
     "metadata": {},
     "output_type": "execute_result"
    }
   ],
   "source": [
    "train_df = pd.read_csv('train.csv')\n",
    "test_df  = pd.read_csv('test.csv')\n",
    "print(train_df.shape, test_df.shape)\n",
    "train_df.head()"
   ]
  },
  {
   "cell_type": "code",
   "execution_count": 3,
   "id": "f3203d34-047d-4e6b-8d83-ee82643b31d2",
   "metadata": {},
   "outputs": [
    {
     "data": {
      "image/png": "[encoded data removed]",
      "text/plain": [
       "<Figure size 640x480 with 1 Axes>"
      ]
     },
     "metadata": {},
     "output_type": "display_data"
    },
    {
     "data": {
      "image/png": "[encoded data removed]",
      "text/plain": [
       "<Figure size 640x480 with 1 Axes>"
      ]
     },
     "metadata": {},
     "output_type": "display_data"
    }
   ],
   "source": [
    "train_df['target'].value_counts().plot(kind='bar', title='Target distribution'); plt.show()\n",
    "\n",
    "# Tweet length\n",
    "train_df['text'].str.len().hist(bins=30); plt.title('Tweet length (chars)'); plt.show()\n"
   ]
  },
  {
   "cell_type": "code",
   "execution_count": 4,
   "id": "74980208-c251-49f1-a960-318dfec96627",
   "metadata": {},
   "outputs": [
    {
     "name": "stdout",
     "output_type": "stream",
     "text": [
      "Vocab size: 6541\n"
     ]
    },
    {
     "name": "stderr",
     "output_type": "stream",
     "text": [
      ".vector_cache\\glove.6B.zip: 862MB [04:10, 3.44MB/s]                               \n",
      "100%|█████████▉| 399999/400000 [00:22<00:00, 17854.73it/s]\n"
     ]
    }
   ],
   "source": [
    "URL_RE     = re.compile(r'https?://\\S+|www\\.\\S+')\n",
    "MENTION_RE = re.compile(r'@\\w+')\n",
    "HTML_RE    = re.compile(r'<.*?>')\n",
    "NONPRINT_RE= re.compile(r'[^\\x00-\\x7F]+')\n",
    "PUNCT_TBL  = str.maketrans('', '', string.punctuation)\n",
    "\n",
    "def preprocess(text: str) -> list[str]:\n",
    "    \"\"\"Light tweet cleaning + whitespace tokenisation.\"\"\"\n",
    "    text = URL_RE.sub(' ', text)\n",
    "    text = MENTION_RE.sub(' ', text)\n",
    "    text = HTML_RE.sub(' ', text)\n",
    "    text = NONPRINT_RE.sub(' ', text)\n",
    "    text = text.translate(PUNCT_TBL)\n",
    "    return text.lower().strip().split()\n",
    "\n",
    "# Apply\n",
    "train_df['tokens'] = train_df['text'].apply(preprocess)\n",
    "test_df['tokens']  = test_df['text'].apply(preprocess)\n",
    "\n",
    "# Build vocab\n",
    "MIN_FREQ = 2\n",
    "counter = Counter(tok for toks in train_df['tokens'] for tok in toks)\n",
    "vocab = {'<pad>':0, '<unk>':1}\n",
    "for word, f in counter.items():\n",
    "    if f >= MIN_FREQ:\n",
    "        vocab[word] = len(vocab)\n",
    "print('Vocab size:', len(vocab))\n",
    "\n",
    "# GloVe 6B‑100d\n",
    "GLOVE = GloVe(name='6B', dim=100)\n",
    "EMB_DIM = 100\n",
    "emb_matrix = torch.randn(len(vocab), EMB_DIM)*0.6\n",
    "emb_matrix[0] = torch.zeros(EMB_DIM)\n",
    "for w, idx in vocab.items():\n",
    "    if w in GLOVE.stoi:\n",
    "        emb_matrix[idx] = GLOVE[w]"
   ]
  },
  {
   "cell_type": "code",
   "execution_count": 20,
   "id": "22e5fe1e-4546-4711-9faf-2ca68c76ce2f",
   "metadata": {},
   "outputs": [],
   "source": [
    "url_pattern      = re.compile(r'https?://\\S+|www\\.\\S+')\n",
    "mention_pattern  = re.compile(r'@\\w+')\n",
    "html_pattern     = re.compile(r'<.*?>')\n",
    "non_print_pattern= re.compile(r'[^\\x00-\\x7F]+')\n",
    "\n",
    "punct_table = str.maketrans('', '', string.punctuation)\n",
    "\n",
    "def clean_text(text):\n",
    "    \"\"\"Basic cleaning suitable for tweets.\"\"\"\n",
    "    text = url_pattern.sub('', text)\n",
    "    text = mention_pattern.sub('', text)\n",
    "    text = html_pattern.sub(' ', text)\n",
    "    text = non_print_pattern.sub('', text)\n",
    "    text = text.translate(punct_table)\n",
    "    text = text.lower()\n",
    "    return text.strip()\n",
    "\n",
    "train_df['clean_text'] = train_df['text'].apply(clean_text)\n",
    "test_df['clean_text']  = test_df['text'].apply(clean_text)\n",
    "\n",
    "# Tokenization – simple whitespace split (adequate for this mini‑project)\n",
    "train_df['tokens'] = train_df['clean_text'].str.split()\n",
    "test_df['tokens']  = test_df['clean_text'].str.split()"
   ]
  },
  {
   "cell_type": "markdown",
   "id": "591e38b5-27fe-48cf-9e40-5ece14ca6700",
   "metadata": {},
   "source": [
    "# 4  Dataset & DataLoader"
   ]
  },
  {
   "cell_type": "code",
   "execution_count": 5,
   "id": "49a90552-ad05-4bd2-93df-73334660d401",
   "metadata": {},
   "outputs": [],
   "source": [
    "class TweetDS(Dataset):\n",
    "    def __init__(self, token_lists, labels=None):\n",
    "        self.X = token_lists.values if isinstance(token_lists, pd.Series) else token_lists\n",
    "        self.y = labels.values   if labels is not None else None\n",
    "    def __len__(self): return len(self.X)\n",
    "    def __getitem__(self, idx):\n",
    "        ids = [vocab.get(tok, vocab['<unk>']) for tok in self.X[idx]]\n",
    "        if self.y is None:\n",
    "            return torch.tensor(ids)\n",
    "        return torch.tensor(ids), torch.tensor(self.y[idx], dtype=torch.float32)\n",
    "\n",
    "def collate(batch):\n",
    "    \"\"\"Pads sequences & (optionally) stacks labels.\"\"\"\n",
    "    if isinstance(batch[0], tuple):\n",
    "        seqs, labels = zip(*batch)\n",
    "        return pad_sequence(seqs, batch_first=True).to(DEVICE), torch.stack(labels).to(DEVICE)\n",
    "    return pad_sequence(batch, batch_first=True).to(DEVICE)\n",
    "\n",
    "# Train / val split\n",
    "X_tr, X_val, y_tr, y_val = train_test_split(train_df['tokens'], train_df['target'], test_size=0.15, random_state=SEED, stratify=train_df['target'])\n",
    "\n",
    "dls = {\n",
    "    'train': DataLoader(TweetDS(X_tr,  y_tr),  batch_size=64, shuffle=True,  collate_fn=collate),\n",
    "    'val'  : DataLoader(TweetDS(X_val, y_val), batch_size=64, shuffle=False, collate_fn=collate),\n",
    "    'full' : DataLoader(TweetDS(train_df['tokens'], train_df['target']), batch_size=64, shuffle=True, collate_fn=collate),\n",
    "    'test' : DataLoader(TweetDS(test_df['tokens']), batch_size=64, shuffle=False, collate_fn=collate)\n",
    "}\n"
   ]
  },
  {
   "cell_type": "markdown",
   "id": "1576508b-5670-41ff-bd2b-b43240a027ef",
   "metadata": {},
   "source": [
    "# 5  Bi‑LSTM Classifier"
   ]
  },
  {
   "cell_type": "code",
   "execution_count": 6,
   "id": "7ff4372c-524f-4299-a4cf-6eba6681b7e9",
   "metadata": {},
   "outputs": [],
   "source": [
    "class BiLSTMClassifier(nn.Module):\n",
    "    def __init__(self, vocab_size: int, emb_dim: int, hidden: int = 128, dropout: float = 0.3):\n",
    "        super().__init__()\n",
    "        self.embed = nn.Embedding(vocab_size, emb_dim, padding_idx=0)\n",
    "        self.embed.weight.data.copy_(emb_matrix); self.embed.weight.requires_grad = False\n",
    "        self.lstm  = nn.LSTM(emb_dim, hidden, bidirectional=True, batch_first=True, dropout=dropout)\n",
    "        self.fc    = nn.Sequential(nn.Dropout(dropout), nn.Linear(hidden*2, 1))\n",
    "    def forward(self, x):\n",
    "        h, _ = self.lstm(self.embed(x))                # [B,T,H*2]\n",
    "        h_pool, _ = torch.max(h, dim=1)                # [B,H*2]\n",
    "        return self.fc(h_pool).squeeze(1)              # logits\n"
   ]
  },
  {
   "cell_type": "markdown",
   "id": "02cbb7f0-1e92-44d7-9faa-17aa7e1dd233",
   "metadata": {},
   "source": [
    "# 6  Training & Evaluation Utilities"
   ]
  },
  {
   "cell_type": "code",
   "execution_count": 8,
   "id": "03f9db8f-5aac-4289-9a86-4607f6f0b5df",
   "metadata": {},
   "outputs": [],
   "source": [
    "BCE = nn.BCEWithLogitsLoss()\n",
    "\n",
    "def train_one_epoch(model, dl, opt):\n",
    "    model.train(); loss_sum = 0\n",
    "    for X, y in dl:\n",
    "        opt.zero_grad(); loss = BCE(model(X), y); loss.backward(); opt.step()\n",
    "        loss_sum += loss.item()*X.size(0)\n",
    "    return loss_sum / len(dl.dataset)\n",
    "\n",
    "@torch.no_grad()\n",
    "def f1_on_loader(model, dl):\n",
    "    model.eval(); preds, labels = [], []\n",
    "    for X, y in dl:\n",
    "        preds += torch.sigmoid(model(X)).cpu().tolist()\n",
    "        labels += y.cpu().tolist()\n",
    "    return f1_score(labels, (np.array(preds) >= 0.5).astype(int))\n"
   ]
  },
  {
   "cell_type": "markdown",
   "id": "77931723-36b7-44b9-995d-97a9d9a68cfc",
   "metadata": {},
   "source": [
    "# 7  Mini Hyper‑parameter Sweep"
   ]
  },
  {
   "cell_type": "code",
   "execution_count": 9,
   "id": "d79cb22b-6d8c-4b27-abfd-f77db6bd8a74",
   "metadata": {},
   "outputs": [
    {
     "name": "stderr",
     "output_type": "stream",
     "text": [
      "C:\\Users\\Jam\\anaconda3\\Lib\\site-packages\\torch\\nn\\modules\\rnn.py:83: UserWarning: dropout option adds dropout after all but last recurrent layer, so non-zero dropout expects num_layers greater than 1, but got dropout=0.3 and num_layers=1\n",
      "  warnings.warn(\"dropout option adds dropout after all but last \"\n"
     ]
    },
    {
     "name": "stdout",
     "output_type": "stream",
     "text": [
      "hidden=64  f1=0.7644\n"
     ]
    },
    {
     "name": "stderr",
     "output_type": "stream",
     "text": [
      "C:\\Users\\Jam\\anaconda3\\Lib\\site-packages\\torch\\nn\\modules\\rnn.py:83: UserWarning: dropout option adds dropout after all but last recurrent layer, so non-zero dropout expects num_layers greater than 1, but got dropout=0.3 and num_layers=1\n",
      "  warnings.warn(\"dropout option adds dropout after all but last \"\n"
     ]
    },
    {
     "name": "stdout",
     "output_type": "stream",
     "text": [
      "hidden=128  f1=0.7738\n",
      "Best hidden: 128 F1: 0.7738478027867095\n"
     ]
    }
   ],
   "source": [
    "search = [64, 128]\n",
    "best_f1, best_hidden = 0, None\n",
    "for hidden in search:\n",
    "    model = BiLSTMClassifier(len(vocab), EMB_DIM, hidden=hidden).to(DEVICE)\n",
    "    opt   = torch.optim.Adam(model.parameters(), lr=2e-3)\n",
    "    for _ in range(4):\n",
    "        train_one_epoch(model, dls['train'], opt)\n",
    "    f1 = f1_on_loader(model, dls['val'])\n",
    "    print(f'hidden={hidden}  f1={f1:.4f}')\n",
    "    if f1 > best_f1:\n",
    "        best_f1, best_hidden, best_state = f1, hidden, model.state_dict()\n",
    "print('Best hidden:', best_hidden, 'F1:', best_f1)"
   ]
  },
  {
   "cell_type": "markdown",
   "id": "1e89fbc8-e6d4-41b3-bea8-6b15bae181f7",
   "metadata": {},
   "source": [
    "# 8  Train Best Model on Full Data"
   ]
  },
  {
   "cell_type": "code",
   "execution_count": 10,
   "id": "aa29147f-47e4-4c24-b759-130d03e3b845",
   "metadata": {},
   "outputs": [
    {
     "name": "stderr",
     "output_type": "stream",
     "text": [
      "C:\\Users\\Jam\\anaconda3\\Lib\\site-packages\\torch\\nn\\modules\\rnn.py:83: UserWarning: dropout option adds dropout after all but last recurrent layer, so non-zero dropout expects num_layers greater than 1, but got dropout=0.3 and num_layers=1\n",
      "  warnings.warn(\"dropout option adds dropout after all but last \"\n"
     ]
    },
    {
     "name": "stdout",
     "output_type": "stream",
     "text": [
      "Epoch 1  loss=0.3859\n",
      "Epoch 2  loss=0.3604\n"
     ]
    }
   ],
   "source": [
    "best_model = BiLSTMClassifier(len(vocab), EMB_DIM, hidden=best_hidden).to(DEVICE)\n",
    "best_model.load_state_dict(best_state)\n",
    "opt = torch.optim.Adam(best_model.parameters(), lr=2e-3)\n",
    "for epoch in range(2):\n",
    "    loss = train_one_epoch(best_model, dls['full'], opt)\n",
    "    print(f'Epoch {epoch+1}  loss={loss:.4f}')\n"
   ]
  },
  {
   "cell_type": "markdown",
   "id": "9c93d794-c191-4c6b-986a-739c787150d5",
   "metadata": {},
   "source": [
    "# 9. Creating Submission file"
   ]
  },
  {
   "cell_type": "code",
   "execution_count": 12,
   "id": "675f16c4-041e-4c39-b63a-07ee14645f0e",
   "metadata": {},
   "outputs": [
    {
     "name": "stdout",
     "output_type": "stream",
     "text": [
      "Saved submission.csv\n"
     ]
    },
    {
     "data": {
      "text/html": [
       "<div>\n",
       "<style scoped>\n",
       "    .dataframe tbody tr th:only-of-type {\n",
       "        vertical-align: middle;\n",
       "    }\n",
       "\n",
       "    .dataframe tbody tr th {\n",
       "        vertical-align: top;\n",
       "    }\n",
       "\n",
       "    .dataframe thead th {\n",
       "        text-align: right;\n",
       "    }\n",
       "</style>\n",
       "<table border=\"1\" class=\"dataframe\">\n",
       "  <thead>\n",
       "    <tr style=\"text-align: right;\">\n",
       "      <th></th>\n",
       "      <th>id</th>\n",
       "      <th>target</th>\n",
       "    </tr>\n",
       "  </thead>\n",
       "  <tbody>\n",
       "    <tr>\n",
       "      <th>0</th>\n",
       "      <td>0</td>\n",
       "      <td>1</td>\n",
       "    </tr>\n",
       "    <tr>\n",
       "      <th>1</th>\n",
       "      <td>2</td>\n",
       "      <td>1</td>\n",
       "    </tr>\n",
       "    <tr>\n",
       "      <th>2</th>\n",
       "      <td>3</td>\n",
       "      <td>1</td>\n",
       "    </tr>\n",
       "    <tr>\n",
       "      <th>3</th>\n",
       "      <td>9</td>\n",
       "      <td>1</td>\n",
       "    </tr>\n",
       "    <tr>\n",
       "      <th>4</th>\n",
       "      <td>11</td>\n",
       "      <td>1</td>\n",
       "    </tr>\n",
       "  </tbody>\n",
       "</table>\n",
       "</div>"
      ],
      "text/plain": [
       "   id  target\n",
       "0   0       1\n",
       "1   2       1\n",
       "2   3       1\n",
       "3   9       1\n",
       "4  11       1"
      ]
     },
     "execution_count": 12,
     "metadata": {},
     "output_type": "execute_result"
    }
   ],
   "source": [
    "@torch.no_grad()\n",
    "def predict(model, dl):\n",
    "    model.eval(); out = []\n",
    "    for X in dl:\n",
    "        out += torch.sigmoid(model(X)).cpu().tolist()\n",
    "    return (np.array(out) >= 0.5).astype(int)\n",
    "\n",
    "test_pred = predict(best_model, dls['test'])\n",
    "sub = pd.DataFrame({'id': test_df['id'], 'target': test_pred})\n",
    "sub.to_csv('submission.csv', index=False)\n",
    "print('Saved submission.csv')\n",
    "sub.head()"
   ]
  },
  {
   "cell_type": "markdown",
   "id": "4385f904-7b5b-4c2c-802e-dbad6c799714",
   "metadata": {},
   "source": [
    "## 10. Discussion & References\n",
    "\n",
    "- **Future improvements:**\n",
    "  - Fine-tuning a transformer model (e.g., BERT)\n",
    "  - Improved data cleaning (e.g., emoji handling, spelling correction)\n",
    "  - Ensembling multiple models for robustness\n",
    "\n",
    "---\n",
    "\n",
    "### References\n",
    "\n",
    "1. [Kaggle Competition – Natural Language Processing with Disaster Tweets](https://www.kaggle.com/competitions/nlp-getting-started)  \n",
    "2. Pennington et al., *GloVe: Global Vectors for Word Representation* (2014)  \n",
    "3. [PyTorch Documentation](https://pytorch.org/docs/stable/index.html)  \n",
    "4. [TorchText Documentation](https://pytorch.org/text/stable/)\n"
   ]
  }
 ],
 "metadata": {
  "kernelspec": {
   "display_name": "Python [conda env:base] *",
   "language": "python",
   "name": "conda-base-py"
  },
  "language_info": {
   "codemirror_mode": {
    "name": "ipython",
    "version": 3
   },
   "file_extension": ".py",
   "mimetype": "text/x-python",
   "name": "python",
   "nbconvert_exporter": "python",
   "pygments_lexer": "ipython3",
   "version": "3.12.7"
  }
 },
 "nbformat": 4,
 "nbformat_minor": 5
}
